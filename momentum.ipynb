{
 "cells": [
  {
   "cell_type": "markdown",
   "id": "639f46aa-32fe-484f-820c-d099a396be17",
   "metadata": {
    "tags": []
   },
   "source": [
    "# Importing Libraries"
   ]
  },
  {
   "cell_type": "code",
   "execution_count": 1,
   "id": "9d41b363-f7e4-4141-b06d-f822e6cf63df",
   "metadata": {},
   "outputs": [],
   "source": [
    "import yfinance as yf\n",
    "import pandas as pd\n",
    "import numpy as np\n",
    "import matplotlib.pyplot as plt"
   ]
  },
  {
   "cell_type": "markdown",
   "id": "9a263d52-180c-456c-b8eb-8dc30a893814",
   "metadata": {},
   "source": [
    "# Data preparation (Brazilian IBOV index)"
   ]
  },
  {
   "cell_type": "markdown",
   "id": "b4128481-28a4-4455-8086-c4bf916db428",
   "metadata": {},
   "source": [
    "## Downloading data"
   ]
  },
  {
   "cell_type": "code",
   "execution_count": 2,
   "id": "14000b76-7e30-4e14-a8bf-c8b7b7be76e0",
   "metadata": {},
   "outputs": [
    {
     "name": "stdout",
     "output_type": "stream",
     "text": [
      "[*********************100%***********************]  1 of 1 completed\n"
     ]
    }
   ],
   "source": [
    "df = yf.download(\"^BVSP\", interval=\"1mo\", start=\"2007-01-01\")"
   ]
  },
  {
   "cell_type": "markdown",
   "id": "c312adbb-a175-4c58-9aa3-7276f39de2dc",
   "metadata": {},
   "source": [
    "## Drop unnecessary data"
   ]
  },
  {
   "cell_type": "code",
   "execution_count": 3,
   "id": "d930f3e3-3634-4d2e-a492-29fa1424797e",
   "metadata": {},
   "outputs": [],
   "source": [
    "df.drop(columns=[\"Open\", \"High\", \"Low\", \"Close\", \"Volume\"], inplace=True)"
   ]
  },
  {
   "cell_type": "markdown",
   "id": "1442f43a-b09c-4a75-811e-743f10f3319c",
   "metadata": {},
   "source": [
    "## Defining trailling month positive return criteria"
   ]
  },
  {
   "cell_type": "code",
   "execution_count": 4,
   "id": "2efeafc2-63ec-4560-8103-9b1043eee331",
   "metadata": {},
   "outputs": [],
   "source": [
    "df[\"ttm\"] = df.pct_change(periods=12)"
   ]
  },
  {
   "cell_type": "markdown",
   "id": "87aeebf6-4e3d-42b2-9127-a12d3db405da",
   "metadata": {},
   "source": [
    "## Creating return column"
   ]
  },
  {
   "cell_type": "code",
   "execution_count": 5,
   "id": "e273e3bf-12fc-424b-8f72-d335c7b4ce2c",
   "metadata": {},
   "outputs": [],
   "source": [
    "df[\"monthly_pct\"] = df[\"Adj Close\"].pct_change()"
   ]
  },
  {
   "cell_type": "code",
   "execution_count": 6,
   "id": "eee71fbf-4aab-44fb-964d-b9ed5659e994",
   "metadata": {},
   "outputs": [
    {
     "data": {
      "text/html": [
       "<div>\n",
       "<style scoped>\n",
       "    .dataframe tbody tr th:only-of-type {\n",
       "        vertical-align: middle;\n",
       "    }\n",
       "\n",
       "    .dataframe tbody tr th {\n",
       "        vertical-align: top;\n",
       "    }\n",
       "\n",
       "    .dataframe thead th {\n",
       "        text-align: right;\n",
       "    }\n",
       "</style>\n",
       "<table border=\"1\" class=\"dataframe\">\n",
       "  <thead>\n",
       "    <tr style=\"text-align: right;\">\n",
       "      <th></th>\n",
       "      <th>Adj Close</th>\n",
       "      <th>ttm</th>\n",
       "      <th>monthly_pct</th>\n",
       "    </tr>\n",
       "    <tr>\n",
       "      <th>Date</th>\n",
       "      <th></th>\n",
       "      <th></th>\n",
       "      <th></th>\n",
       "    </tr>\n",
       "  </thead>\n",
       "  <tbody>\n",
       "    <tr>\n",
       "      <th>2007-01-01</th>\n",
       "      <td>44642.000000</td>\n",
       "      <td>NaN</td>\n",
       "      <td>NaN</td>\n",
       "    </tr>\n",
       "    <tr>\n",
       "      <th>2007-02-01</th>\n",
       "      <td>43892.000000</td>\n",
       "      <td>NaN</td>\n",
       "      <td>-0.016800</td>\n",
       "    </tr>\n",
       "    <tr>\n",
       "      <th>2007-03-01</th>\n",
       "      <td>45805.000000</td>\n",
       "      <td>NaN</td>\n",
       "      <td>0.043584</td>\n",
       "    </tr>\n",
       "    <tr>\n",
       "      <th>2007-04-01</th>\n",
       "      <td>48956.000000</td>\n",
       "      <td>NaN</td>\n",
       "      <td>0.068792</td>\n",
       "    </tr>\n",
       "    <tr>\n",
       "      <th>2007-05-01</th>\n",
       "      <td>52268.000000</td>\n",
       "      <td>NaN</td>\n",
       "      <td>0.067653</td>\n",
       "    </tr>\n",
       "    <tr>\n",
       "      <th>...</th>\n",
       "      <td>...</td>\n",
       "      <td>...</td>\n",
       "      <td>...</td>\n",
       "    </tr>\n",
       "    <tr>\n",
       "      <th>2022-04-01</th>\n",
       "      <td>107876.000000</td>\n",
       "      <td>-0.092671</td>\n",
       "      <td>-0.101026</td>\n",
       "    </tr>\n",
       "    <tr>\n",
       "      <th>2022-05-01</th>\n",
       "      <td>111351.000000</td>\n",
       "      <td>-0.117774</td>\n",
       "      <td>0.032213</td>\n",
       "    </tr>\n",
       "    <tr>\n",
       "      <th>2022-06-01</th>\n",
       "      <td>98542.000000</td>\n",
       "      <td>-0.222867</td>\n",
       "      <td>-0.115033</td>\n",
       "    </tr>\n",
       "    <tr>\n",
       "      <th>2022-07-01</th>\n",
       "      <td>98295.000000</td>\n",
       "      <td>-0.192987</td>\n",
       "      <td>-0.002507</td>\n",
       "    </tr>\n",
       "    <tr>\n",
       "      <th>2022-07-06</th>\n",
       "      <td>98718.976562</td>\n",
       "      <td>-0.168899</td>\n",
       "      <td>0.004313</td>\n",
       "    </tr>\n",
       "  </tbody>\n",
       "</table>\n",
       "<p>188 rows × 3 columns</p>\n",
       "</div>"
      ],
      "text/plain": [
       "                Adj Close       ttm  monthly_pct\n",
       "Date                                            \n",
       "2007-01-01   44642.000000       NaN          NaN\n",
       "2007-02-01   43892.000000       NaN    -0.016800\n",
       "2007-03-01   45805.000000       NaN     0.043584\n",
       "2007-04-01   48956.000000       NaN     0.068792\n",
       "2007-05-01   52268.000000       NaN     0.067653\n",
       "...                   ...       ...          ...\n",
       "2022-04-01  107876.000000 -0.092671    -0.101026\n",
       "2022-05-01  111351.000000 -0.117774     0.032213\n",
       "2022-06-01   98542.000000 -0.222867    -0.115033\n",
       "2022-07-01   98295.000000 -0.192987    -0.002507\n",
       "2022-07-06   98718.976562 -0.168899     0.004313\n",
       "\n",
       "[188 rows x 3 columns]"
      ]
     },
     "execution_count": 6,
     "metadata": {},
     "output_type": "execute_result"
    }
   ],
   "source": [
    "df"
   ]
  },
  {
   "cell_type": "code",
   "execution_count": 7,
   "id": "f08f5158-b1a3-4f46-897e-6fd163eaec32",
   "metadata": {},
   "outputs": [],
   "source": [
    "df[\"ttm_positive\"] = df.apply(lambda x: 1 if x[\"ttm\"] > 0 else 0, axis=1)"
   ]
  },
  {
   "cell_type": "code",
   "execution_count": 8,
   "id": "1c45225d-f482-4d2d-b063-7b3f3cac54c6",
   "metadata": {},
   "outputs": [],
   "source": [
    "df.dropna(inplace=True)"
   ]
  },
  {
   "cell_type": "code",
   "execution_count": 9,
   "id": "0b645d23-1ea7-4b62-806f-de447b6935a6",
   "metadata": {},
   "outputs": [
    {
     "data": {
      "text/html": [
       "<div>\n",
       "<style scoped>\n",
       "    .dataframe tbody tr th:only-of-type {\n",
       "        vertical-align: middle;\n",
       "    }\n",
       "\n",
       "    .dataframe tbody tr th {\n",
       "        vertical-align: top;\n",
       "    }\n",
       "\n",
       "    .dataframe thead th {\n",
       "        text-align: right;\n",
       "    }\n",
       "</style>\n",
       "<table border=\"1\" class=\"dataframe\">\n",
       "  <thead>\n",
       "    <tr style=\"text-align: right;\">\n",
       "      <th></th>\n",
       "      <th>Adj Close</th>\n",
       "      <th>ttm</th>\n",
       "      <th>monthly_pct</th>\n",
       "      <th>ttm_positive</th>\n",
       "    </tr>\n",
       "    <tr>\n",
       "      <th>Date</th>\n",
       "      <th></th>\n",
       "      <th></th>\n",
       "      <th></th>\n",
       "      <th></th>\n",
       "    </tr>\n",
       "  </thead>\n",
       "  <tbody>\n",
       "    <tr>\n",
       "      <th>2008-01-01</th>\n",
       "      <td>59490.000000</td>\n",
       "      <td>0.332602</td>\n",
       "      <td>-0.068810</td>\n",
       "      <td>1</td>\n",
       "    </tr>\n",
       "    <tr>\n",
       "      <th>2008-02-01</th>\n",
       "      <td>63489.000000</td>\n",
       "      <td>0.446482</td>\n",
       "      <td>0.067221</td>\n",
       "      <td>1</td>\n",
       "    </tr>\n",
       "    <tr>\n",
       "      <th>2008-03-01</th>\n",
       "      <td>60968.000000</td>\n",
       "      <td>0.331034</td>\n",
       "      <td>-0.039708</td>\n",
       "      <td>1</td>\n",
       "    </tr>\n",
       "    <tr>\n",
       "      <th>2008-04-01</th>\n",
       "      <td>67868.000000</td>\n",
       "      <td>0.386306</td>\n",
       "      <td>0.113174</td>\n",
       "      <td>1</td>\n",
       "    </tr>\n",
       "    <tr>\n",
       "      <th>2008-05-01</th>\n",
       "      <td>72593.000000</td>\n",
       "      <td>0.388861</td>\n",
       "      <td>0.069620</td>\n",
       "      <td>1</td>\n",
       "    </tr>\n",
       "    <tr>\n",
       "      <th>...</th>\n",
       "      <td>...</td>\n",
       "      <td>...</td>\n",
       "      <td>...</td>\n",
       "      <td>...</td>\n",
       "    </tr>\n",
       "    <tr>\n",
       "      <th>2022-04-01</th>\n",
       "      <td>107876.000000</td>\n",
       "      <td>-0.092671</td>\n",
       "      <td>-0.101026</td>\n",
       "      <td>0</td>\n",
       "    </tr>\n",
       "    <tr>\n",
       "      <th>2022-05-01</th>\n",
       "      <td>111351.000000</td>\n",
       "      <td>-0.117774</td>\n",
       "      <td>0.032213</td>\n",
       "      <td>0</td>\n",
       "    </tr>\n",
       "    <tr>\n",
       "      <th>2022-06-01</th>\n",
       "      <td>98542.000000</td>\n",
       "      <td>-0.222867</td>\n",
       "      <td>-0.115033</td>\n",
       "      <td>0</td>\n",
       "    </tr>\n",
       "    <tr>\n",
       "      <th>2022-07-01</th>\n",
       "      <td>98295.000000</td>\n",
       "      <td>-0.192987</td>\n",
       "      <td>-0.002507</td>\n",
       "      <td>0</td>\n",
       "    </tr>\n",
       "    <tr>\n",
       "      <th>2022-07-06</th>\n",
       "      <td>98718.976562</td>\n",
       "      <td>-0.168899</td>\n",
       "      <td>0.004313</td>\n",
       "      <td>0</td>\n",
       "    </tr>\n",
       "  </tbody>\n",
       "</table>\n",
       "<p>176 rows × 4 columns</p>\n",
       "</div>"
      ],
      "text/plain": [
       "                Adj Close       ttm  monthly_pct  ttm_positive\n",
       "Date                                                          \n",
       "2008-01-01   59490.000000  0.332602    -0.068810             1\n",
       "2008-02-01   63489.000000  0.446482     0.067221             1\n",
       "2008-03-01   60968.000000  0.331034    -0.039708             1\n",
       "2008-04-01   67868.000000  0.386306     0.113174             1\n",
       "2008-05-01   72593.000000  0.388861     0.069620             1\n",
       "...                   ...       ...          ...           ...\n",
       "2022-04-01  107876.000000 -0.092671    -0.101026             0\n",
       "2022-05-01  111351.000000 -0.117774     0.032213             0\n",
       "2022-06-01   98542.000000 -0.222867    -0.115033             0\n",
       "2022-07-01   98295.000000 -0.192987    -0.002507             0\n",
       "2022-07-06   98718.976562 -0.168899     0.004313             0\n",
       "\n",
       "[176 rows x 4 columns]"
      ]
     },
     "execution_count": 9,
     "metadata": {},
     "output_type": "execute_result"
    }
   ],
   "source": [
    "df"
   ]
  },
  {
   "cell_type": "markdown",
   "id": "a364535f-1434-4952-a7da-bb03f28cc926",
   "metadata": {},
   "source": [
    "## Plotting monthly return histogram"
   ]
  },
  {
   "cell_type": "code",
   "execution_count": 13,
   "id": "346ac4ae-129b-4748-b254-b2bf148282ce",
   "metadata": {},
   "outputs": [
    {
     "data": {
      "image/png": "[encoded data removed]",
      "text/plain": [
       "<Figure size 432x288 with 1 Axes>"
      ]
     },
     "metadata": {
      "needs_background": "light"
     },
     "output_type": "display_data"
    }
   ],
   "source": [
    "df[\"monthly_pct\"].plot(kind=\"hist\", bins=100);"
   ]
  },
  {
   "cell_type": "markdown",
   "id": "2d03203a-39eb-4495-82f2-b1ba9b24ee9a",
   "metadata": {},
   "source": [
    "## Creating auxiliary boolean column"
   ]
  },
  {
   "cell_type": "code",
   "execution_count": 11,
   "id": "c4a2323e-5673-426a-a636-d9a65ce04d24",
   "metadata": {},
   "outputs": [],
   "source": [
    "df[\"momentum_ret\"] = df.apply(lambda x: x[\"monthly_pct\"] if x[\"ttm_positive\"] > 0 else 0, axis=1)"
   ]
  },
  {
   "cell_type": "markdown",
   "id": "4316bfa8-a3af-46cd-9492-7c443884a47e",
   "metadata": {},
   "source": [
    "# Plotting the result of the momentum strategy vs. the index itself"
   ]
  },
  {
   "cell_type": "code",
   "execution_count": 12,
   "id": "5dfda98f-dd4e-406a-9eef-262257121aef",
   "metadata": {},
   "outputs": [
    {
     "data": {
      "image/png": "[encoded data removed]",
      "text/plain": [
       "<Figure size 1152x576 with 1 Axes>"
      ]
     },
     "metadata": {
      "needs_background": "light"
     },
     "output_type": "display_data"
    }
   ],
   "source": [
    "plt.figure(figsize=(16,8))\n",
    "np.cumprod(1 + df[\"momentum_ret\"]).plot(label=\"momentum\")\n",
    "np.cumprod(1 + df[\"monthly_pct\"]).plot(label=\"ibov\")\n",
    "plt.legend();"
   ]
  }
 ],
 "metadata": {
  "kernelspec": {
   "display_name": "Python 3 (ipykernel)",
   "language": "python",
   "name": "python3"
  },
  "language_info": {
   "codemirror_mode": {
    "name": "ipython",
    "version": 3
   },
   "file_extension": ".py",
   "mimetype": "text/x-python",
   "name": "python",
   "nbconvert_exporter": "python",
   "pygments_lexer": "ipython3",
   "version": "3.9.12"
  }
 },
 "nbformat": 4,
 "nbformat_minor": 5
}
