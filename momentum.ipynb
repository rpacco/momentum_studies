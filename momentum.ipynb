{
 "cells": [
  {
   "cell_type": "markdown",
   "id": "639f46aa-32fe-484f-820c-d099a396be17",
   "metadata": {
    "tags": []
   },
   "source": [
    "# Importing Libraries"
   ]
  },
  {
   "cell_type": "code",
   "execution_count": 1,
   "id": "9d41b363-f7e4-4141-b06d-f822e6cf63df",
   "metadata": {},
   "outputs": [],
   "source": [
    "import yfinance as yf\n",
    "import pandas as pd\n",
    "import numpy as np\n",
    "import matplotlib.pyplot as plt\n",
    "from IPython.display import Image"
   ]
  },
  {
   "cell_type": "markdown",
   "id": "bfc05b9f-00dc-4ec8-a8f5-fc599b900b7f",
   "metadata": {},
   "source": [
    "# Momentum studies based on the book \"Dual Momentum Investing: An Innovative Strategy for Higher Returns with Lower Risk\", by Gary Antonacci."
   ]
  },
  {
   "cell_type": "markdown",
   "id": "aebe802f-ac23-40d4-a197-cddbc70c67e6",
   "metadata": {},
   "source": [
    "The aim of this study was to use the core concept of momentum from the book (mainly trailing X months positive return) applied to brazilian market ."
   ]
  },
  {
   "cell_type": "code",
   "execution_count": 2,
   "id": "99727404-b1a8-42c7-9448-8d5a9da79d9c",
   "metadata": {},
   "outputs": [
    {
     "data": {
      "text/html": [
       "<img src=\"images/GEM_rules.jpg\" width=\"300\" height=\"200\"/>"
      ],
      "text/plain": [
       "<IPython.core.display.Image object>"
      ]
     },
     "execution_count": 2,
     "metadata": {},
     "output_type": "execute_result"
    }
   ],
   "source": [
    "# Dual momentum algorithm proposed by the book\n",
    "Image(url=\"images/GEM_rules.jpg\", width=300, height=200)"
   ]
  },
  {
   "cell_type": "markdown",
   "id": "9a263d52-180c-456c-b8eb-8dc30a893814",
   "metadata": {},
   "source": [
    "# Data preparation (Brazilian IBOV index)"
   ]
  },
  {
   "cell_type": "markdown",
   "id": "b4128481-28a4-4455-8086-c4bf916db428",
   "metadata": {},
   "source": [
    "## Downloading data"
   ]
  },
  {
   "cell_type": "code",
   "execution_count": 3,
   "id": "14000b76-7e30-4e14-a8bf-c8b7b7be76e0",
   "metadata": {},
   "outputs": [
    {
     "name": "stdout",
     "output_type": "stream",
     "text": [
      "[*********************100%***********************]  1 of 1 completed\n"
     ]
    }
   ],
   "source": [
    "df = yf.download(\"^BVSP\", interval=\"1mo\")"
   ]
  },
  {
   "cell_type": "markdown",
   "id": "c312adbb-a175-4c58-9aa3-7276f39de2dc",
   "metadata": {},
   "source": [
    "## Drop unnecessary data"
   ]
  },
  {
   "cell_type": "code",
   "execution_count": 4,
   "id": "d930f3e3-3634-4d2e-a492-29fa1424797e",
   "metadata": {},
   "outputs": [],
   "source": [
    "df.drop(columns=[\"Open\", \"High\", \"Low\", \"Close\", \"Volume\"], inplace=True)"
   ]
  },
  {
   "cell_type": "markdown",
   "id": "1442f43a-b09c-4a75-811e-743f10f3319c",
   "metadata": {},
   "source": [
    "## Defining trailling month positive return criteria"
   ]
  },
  {
   "cell_type": "code",
   "execution_count": 5,
   "id": "2efeafc2-63ec-4560-8103-9b1043eee331",
   "metadata": {},
   "outputs": [],
   "source": [
    "df[\"ttm\"] = df[\"Adj Close\"].pct_change(periods=12)"
   ]
  },
  {
   "cell_type": "markdown",
   "id": "87aeebf6-4e3d-42b2-9127-a12d3db405da",
   "metadata": {},
   "source": [
    "## Creating return column"
   ]
  },
  {
   "cell_type": "code",
   "execution_count": 6,
   "id": "e273e3bf-12fc-424b-8f72-d335c7b4ce2c",
   "metadata": {},
   "outputs": [],
   "source": [
    "df[\"monthly_pct\"] = df[\"Adj Close\"].pct_change()"
   ]
  },
  {
   "cell_type": "code",
   "execution_count": 7,
   "id": "eee71fbf-4aab-44fb-964d-b9ed5659e994",
   "metadata": {},
   "outputs": [
    {
     "data": {
      "text/html": [
       "<div>\n",
       "<style scoped>\n",
       "    .dataframe tbody tr th:only-of-type {\n",
       "        vertical-align: middle;\n",
       "    }\n",
       "\n",
       "    .dataframe tbody tr th {\n",
       "        vertical-align: top;\n",
       "    }\n",
       "\n",
       "    .dataframe thead th {\n",
       "        text-align: right;\n",
       "    }\n",
       "</style>\n",
       "<table border=\"1\" class=\"dataframe\">\n",
       "  <thead>\n",
       "    <tr style=\"text-align: right;\">\n",
       "      <th></th>\n",
       "      <th>Adj Close</th>\n",
       "      <th>ttm</th>\n",
       "      <th>monthly_pct</th>\n",
       "    </tr>\n",
       "    <tr>\n",
       "      <th>Date</th>\n",
       "      <th></th>\n",
       "      <th></th>\n",
       "      <th></th>\n",
       "    </tr>\n",
       "  </thead>\n",
       "  <tbody>\n",
       "    <tr>\n",
       "      <th>1993-05-01</th>\n",
       "      <td>34.900002</td>\n",
       "      <td>NaN</td>\n",
       "      <td>NaN</td>\n",
       "    </tr>\n",
       "    <tr>\n",
       "      <th>1993-06-01</th>\n",
       "      <td>53.700001</td>\n",
       "      <td>NaN</td>\n",
       "      <td>0.538682</td>\n",
       "    </tr>\n",
       "    <tr>\n",
       "      <th>1993-07-01</th>\n",
       "      <td>65.599998</td>\n",
       "      <td>NaN</td>\n",
       "      <td>0.221601</td>\n",
       "    </tr>\n",
       "    <tr>\n",
       "      <th>1993-08-01</th>\n",
       "      <td>96.400002</td>\n",
       "      <td>NaN</td>\n",
       "      <td>0.469512</td>\n",
       "    </tr>\n",
       "    <tr>\n",
       "      <th>1993-09-01</th>\n",
       "      <td>146.600006</td>\n",
       "      <td>NaN</td>\n",
       "      <td>0.520747</td>\n",
       "    </tr>\n",
       "    <tr>\n",
       "      <th>1993-10-01</th>\n",
       "      <td>184.399994</td>\n",
       "      <td>NaN</td>\n",
       "      <td>0.257844</td>\n",
       "    </tr>\n",
       "    <tr>\n",
       "      <th>1993-11-01</th>\n",
       "      <td>274.000000</td>\n",
       "      <td>NaN</td>\n",
       "      <td>0.485900</td>\n",
       "    </tr>\n",
       "    <tr>\n",
       "      <th>1993-12-01</th>\n",
       "      <td>375.500000</td>\n",
       "      <td>NaN</td>\n",
       "      <td>0.370438</td>\n",
       "    </tr>\n",
       "    <tr>\n",
       "      <th>1994-01-01</th>\n",
       "      <td>740.599976</td>\n",
       "      <td>NaN</td>\n",
       "      <td>0.972304</td>\n",
       "    </tr>\n",
       "    <tr>\n",
       "      <th>1994-02-01</th>\n",
       "      <td>1053.900024</td>\n",
       "      <td>NaN</td>\n",
       "      <td>0.423035</td>\n",
       "    </tr>\n",
       "    <tr>\n",
       "      <th>1994-03-01</th>\n",
       "      <td>1515.599976</td>\n",
       "      <td>NaN</td>\n",
       "      <td>0.438087</td>\n",
       "    </tr>\n",
       "    <tr>\n",
       "      <th>1994-04-01</th>\n",
       "      <td>1708.400024</td>\n",
       "      <td>NaN</td>\n",
       "      <td>0.127210</td>\n",
       "    </tr>\n",
       "    <tr>\n",
       "      <th>1994-05-01</th>\n",
       "      <td>2467.199951</td>\n",
       "      <td>69.693405</td>\n",
       "      <td>0.444158</td>\n",
       "    </tr>\n",
       "    <tr>\n",
       "      <th>1994-06-01</th>\n",
       "      <td>3623.199951</td>\n",
       "      <td>66.471134</td>\n",
       "      <td>0.468547</td>\n",
       "    </tr>\n",
       "    <tr>\n",
       "      <th>1994-07-01</th>\n",
       "      <td>4201.299805</td>\n",
       "      <td>63.044206</td>\n",
       "      <td>0.159555</td>\n",
       "    </tr>\n",
       "    <tr>\n",
       "      <th>1994-08-01</th>\n",
       "      <td>5329.500000</td>\n",
       "      <td>54.285269</td>\n",
       "      <td>0.268536</td>\n",
       "    </tr>\n",
       "    <tr>\n",
       "      <th>1994-09-01</th>\n",
       "      <td>5484.000000</td>\n",
       "      <td>36.407911</td>\n",
       "      <td>0.028990</td>\n",
       "    </tr>\n",
       "    <tr>\n",
       "      <th>1994-10-01</th>\n",
       "      <td>4797.899902</td>\n",
       "      <td>25.018981</td>\n",
       "      <td>-0.125109</td>\n",
       "    </tr>\n",
       "    <tr>\n",
       "      <th>1994-11-01</th>\n",
       "      <td>4656.000000</td>\n",
       "      <td>15.992701</td>\n",
       "      <td>-0.029575</td>\n",
       "    </tr>\n",
       "    <tr>\n",
       "      <th>1994-12-01</th>\n",
       "      <td>4353.899902</td>\n",
       "      <td>10.594940</td>\n",
       "      <td>-0.064884</td>\n",
       "    </tr>\n",
       "    <tr>\n",
       "      <th>1995-01-01</th>\n",
       "      <td>3885.000000</td>\n",
       "      <td>4.245747</td>\n",
       "      <td>-0.107697</td>\n",
       "    </tr>\n",
       "    <tr>\n",
       "      <th>1995-02-01</th>\n",
       "      <td>3270.899902</td>\n",
       "      <td>2.103615</td>\n",
       "      <td>-0.158070</td>\n",
       "    </tr>\n",
       "    <tr>\n",
       "      <th>1995-03-01</th>\n",
       "      <td>2979.000000</td>\n",
       "      <td>0.965558</td>\n",
       "      <td>-0.089241</td>\n",
       "    </tr>\n",
       "    <tr>\n",
       "      <th>1995-04-01</th>\n",
       "      <td>3813.699951</td>\n",
       "      <td>1.232323</td>\n",
       "      <td>0.280195</td>\n",
       "    </tr>\n",
       "    <tr>\n",
       "      <th>1995-05-01</th>\n",
       "      <td>3720.600098</td>\n",
       "      <td>0.508025</td>\n",
       "      <td>-0.024412</td>\n",
       "    </tr>\n",
       "  </tbody>\n",
       "</table>\n",
       "</div>"
      ],
      "text/plain": [
       "              Adj Close        ttm  monthly_pct\n",
       "Date                                           \n",
       "1993-05-01    34.900002        NaN          NaN\n",
       "1993-06-01    53.700001        NaN     0.538682\n",
       "1993-07-01    65.599998        NaN     0.221601\n",
       "1993-08-01    96.400002        NaN     0.469512\n",
       "1993-09-01   146.600006        NaN     0.520747\n",
       "1993-10-01   184.399994        NaN     0.257844\n",
       "1993-11-01   274.000000        NaN     0.485900\n",
       "1993-12-01   375.500000        NaN     0.370438\n",
       "1994-01-01   740.599976        NaN     0.972304\n",
       "1994-02-01  1053.900024        NaN     0.423035\n",
       "1994-03-01  1515.599976        NaN     0.438087\n",
       "1994-04-01  1708.400024        NaN     0.127210\n",
       "1994-05-01  2467.199951  69.693405     0.444158\n",
       "1994-06-01  3623.199951  66.471134     0.468547\n",
       "1994-07-01  4201.299805  63.044206     0.159555\n",
       "1994-08-01  5329.500000  54.285269     0.268536\n",
       "1994-09-01  5484.000000  36.407911     0.028990\n",
       "1994-10-01  4797.899902  25.018981    -0.125109\n",
       "1994-11-01  4656.000000  15.992701    -0.029575\n",
       "1994-12-01  4353.899902  10.594940    -0.064884\n",
       "1995-01-01  3885.000000   4.245747    -0.107697\n",
       "1995-02-01  3270.899902   2.103615    -0.158070\n",
       "1995-03-01  2979.000000   0.965558    -0.089241\n",
       "1995-04-01  3813.699951   1.232323     0.280195\n",
       "1995-05-01  3720.600098   0.508025    -0.024412"
      ]
     },
     "execution_count": 7,
     "metadata": {},
     "output_type": "execute_result"
    }
   ],
   "source": [
    "df.head(25)"
   ]
  },
  {
   "cell_type": "markdown",
   "id": "b6d96f32-5c9f-4468-b121-702862806381",
   "metadata": {},
   "source": [
    "## Creating boolean auxiliary column to determine if the trailing X-months returns of the index was positive (1) or not (0)"
   ]
  },
  {
   "cell_type": "code",
   "execution_count": 8,
   "id": "f08f5158-b1a3-4f46-897e-6fd163eaec32",
   "metadata": {},
   "outputs": [],
   "source": [
    "df[\"ttm_positive\"] = df.apply(lambda x: 1 if x[\"ttm\"] > 0 else 0, axis=1)"
   ]
  },
  {
   "cell_type": "markdown",
   "id": "d0cf988c-bcfc-426a-9620-186dbe73123b",
   "metadata": {},
   "source": [
    "## Plotting the distribution of the monthly returns and calculating its skew."
   ]
  },
  {
   "cell_type": "code",
   "execution_count": 9,
   "id": "5e4083cc-e7c2-4ffe-938d-240d92344cb1",
   "metadata": {},
   "outputs": [
    {
     "name": "stdout",
     "output_type": "stream",
     "text": [
      "Skew of the returns distribution: 2.27 \n",
      "\n"
     ]
    },
    {
     "data": {
      "image/png": "[encoded data removed]",
      "text/plain": [
       "<Figure size 432x288 with 1 Axes>"
      ]
     },
     "metadata": {
      "needs_background": "light"
     },
     "output_type": "display_data"
    }
   ],
   "source": [
    "print(\"Skew of the returns distribution:\", round(df[\"monthly_pct\"].skew(), 2), \"\\n\")\n",
    "df[\"monthly_pct\"].plot(kind=\"hist\", bins=100);"
   ]
  },
  {
   "cell_type": "code",
   "execution_count": 10,
   "id": "1c45225d-f482-4d2d-b063-7b3f3cac54c6",
   "metadata": {},
   "outputs": [],
   "source": [
    "df.dropna(inplace=True)"
   ]
  },
  {
   "cell_type": "code",
   "execution_count": 11,
   "id": "0b645d23-1ea7-4b62-806f-de447b6935a6",
   "metadata": {},
   "outputs": [
    {
     "data": {
      "text/html": [
       "<div>\n",
       "<style scoped>\n",
       "    .dataframe tbody tr th:only-of-type {\n",
       "        vertical-align: middle;\n",
       "    }\n",
       "\n",
       "    .dataframe tbody tr th {\n",
       "        vertical-align: top;\n",
       "    }\n",
       "\n",
       "    .dataframe thead th {\n",
       "        text-align: right;\n",
       "    }\n",
       "</style>\n",
       "<table border=\"1\" class=\"dataframe\">\n",
       "  <thead>\n",
       "    <tr style=\"text-align: right;\">\n",
       "      <th></th>\n",
       "      <th>Adj Close</th>\n",
       "      <th>ttm</th>\n",
       "      <th>monthly_pct</th>\n",
       "      <th>ttm_positive</th>\n",
       "    </tr>\n",
       "    <tr>\n",
       "      <th>Date</th>\n",
       "      <th></th>\n",
       "      <th></th>\n",
       "      <th></th>\n",
       "      <th></th>\n",
       "    </tr>\n",
       "  </thead>\n",
       "  <tbody>\n",
       "    <tr>\n",
       "      <th>1994-05-01</th>\n",
       "      <td>2467.199951</td>\n",
       "      <td>69.693405</td>\n",
       "      <td>0.444158</td>\n",
       "      <td>1</td>\n",
       "    </tr>\n",
       "    <tr>\n",
       "      <th>1994-06-01</th>\n",
       "      <td>3623.199951</td>\n",
       "      <td>66.471134</td>\n",
       "      <td>0.468547</td>\n",
       "      <td>1</td>\n",
       "    </tr>\n",
       "    <tr>\n",
       "      <th>1994-07-01</th>\n",
       "      <td>4201.299805</td>\n",
       "      <td>63.044206</td>\n",
       "      <td>0.159555</td>\n",
       "      <td>1</td>\n",
       "    </tr>\n",
       "    <tr>\n",
       "      <th>1994-08-01</th>\n",
       "      <td>5329.500000</td>\n",
       "      <td>54.285269</td>\n",
       "      <td>0.268536</td>\n",
       "      <td>1</td>\n",
       "    </tr>\n",
       "    <tr>\n",
       "      <th>1994-09-01</th>\n",
       "      <td>5484.000000</td>\n",
       "      <td>36.407911</td>\n",
       "      <td>0.028990</td>\n",
       "      <td>1</td>\n",
       "    </tr>\n",
       "    <tr>\n",
       "      <th>...</th>\n",
       "      <td>...</td>\n",
       "      <td>...</td>\n",
       "      <td>...</td>\n",
       "      <td>...</td>\n",
       "    </tr>\n",
       "    <tr>\n",
       "      <th>2022-04-01</th>\n",
       "      <td>107876.000000</td>\n",
       "      <td>-0.092671</td>\n",
       "      <td>-0.101026</td>\n",
       "      <td>0</td>\n",
       "    </tr>\n",
       "    <tr>\n",
       "      <th>2022-05-01</th>\n",
       "      <td>111351.000000</td>\n",
       "      <td>-0.117774</td>\n",
       "      <td>0.032213</td>\n",
       "      <td>0</td>\n",
       "    </tr>\n",
       "    <tr>\n",
       "      <th>2022-06-01</th>\n",
       "      <td>98542.000000</td>\n",
       "      <td>-0.222867</td>\n",
       "      <td>-0.115033</td>\n",
       "      <td>0</td>\n",
       "    </tr>\n",
       "    <tr>\n",
       "      <th>2022-07-01</th>\n",
       "      <td>98287.000000</td>\n",
       "      <td>-0.193053</td>\n",
       "      <td>-0.002588</td>\n",
       "      <td>0</td>\n",
       "    </tr>\n",
       "    <tr>\n",
       "      <th>2022-07-21</th>\n",
       "      <td>97352.867188</td>\n",
       "      <td>-0.180400</td>\n",
       "      <td>-0.009504</td>\n",
       "      <td>0</td>\n",
       "    </tr>\n",
       "  </tbody>\n",
       "</table>\n",
       "<p>340 rows × 4 columns</p>\n",
       "</div>"
      ],
      "text/plain": [
       "                Adj Close        ttm  monthly_pct  ttm_positive\n",
       "Date                                                           \n",
       "1994-05-01    2467.199951  69.693405     0.444158             1\n",
       "1994-06-01    3623.199951  66.471134     0.468547             1\n",
       "1994-07-01    4201.299805  63.044206     0.159555             1\n",
       "1994-08-01    5329.500000  54.285269     0.268536             1\n",
       "1994-09-01    5484.000000  36.407911     0.028990             1\n",
       "...                   ...        ...          ...           ...\n",
       "2022-04-01  107876.000000  -0.092671    -0.101026             0\n",
       "2022-05-01  111351.000000  -0.117774     0.032213             0\n",
       "2022-06-01   98542.000000  -0.222867    -0.115033             0\n",
       "2022-07-01   98287.000000  -0.193053    -0.002588             0\n",
       "2022-07-21   97352.867188  -0.180400    -0.009504             0\n",
       "\n",
       "[340 rows x 4 columns]"
      ]
     },
     "execution_count": 11,
     "metadata": {},
     "output_type": "execute_result"
    }
   ],
   "source": [
    "df"
   ]
  },
  {
   "cell_type": "markdown",
   "id": "2d03203a-39eb-4495-82f2-b1ba9b24ee9a",
   "metadata": {},
   "source": [
    "## Creating returns of the momentum criteria using the auxiliary boolean column"
   ]
  },
  {
   "cell_type": "code",
   "execution_count": 12,
   "id": "c4a2323e-5673-426a-a636-d9a65ce04d24",
   "metadata": {},
   "outputs": [],
   "source": [
    "df[\"momentum_ret\"] = df.apply(lambda x: x[\"monthly_pct\"] if x[\"ttm_positive\"] > 0 else 0, axis=1)"
   ]
  },
  {
   "cell_type": "markdown",
   "id": "4316bfa8-a3af-46cd-9492-7c443884a47e",
   "metadata": {},
   "source": [
    "# Plotting the result of the momentum strategy vs. the index itself"
   ]
  },
  {
   "cell_type": "code",
   "execution_count": 13,
   "id": "5dfda98f-dd4e-406a-9eef-262257121aef",
   "metadata": {},
   "outputs": [
    {
     "data": {
      "image/png": "[encoded data removed]",
      "text/plain": [
       "<Figure size 1152x576 with 1 Axes>"
      ]
     },
     "metadata": {
      "needs_background": "light"
     },
     "output_type": "display_data"
    }
   ],
   "source": [
    "plt.figure(figsize=(16,8))\n",
    "np.cumprod(1 + df[\"momentum_ret\"]).plot(label=\"momentum\")\n",
    "np.cumprod(1 + df[\"monthly_pct\"]).plot(label=\"ibov\")\n",
    "plt.legend();"
   ]
  },
  {
   "cell_type": "markdown",
   "id": "1434ebfb-3853-4c77-8eb7-532bdd4bb223",
   "metadata": {},
   "source": [
    "## Plotting the monthly returns of the momentum investing approach along with its skew."
   ]
  },
  {
   "cell_type": "code",
   "execution_count": 14,
   "id": "b782e6c5-e5a7-4d7d-9150-783ea93455f8",
   "metadata": {},
   "outputs": [
    {
     "name": "stdout",
     "output_type": "stream",
     "text": [
      "Skew of the returns distribution: 1.84 \n",
      "\n"
     ]
    },
    {
     "data": {
      "image/png": "[encoded data removed]",
      "text/plain": [
       "<Figure size 432x288 with 1 Axes>"
      ]
     },
     "metadata": {
      "needs_background": "light"
     },
     "output_type": "display_data"
    }
   ],
   "source": [
    "print(\"Skew of the returns distribution:\", round(df[\"momentum_ret\"].skew(), 2), \"\\n\")\n",
    "df[\"momentum_ret\"].plot(kind=\"hist\", bins=50);"
   ]
  }
 ],
 "metadata": {
  "kernelspec": {
   "display_name": "Python 3 (ipykernel)",
   "language": "python",
   "name": "python3"
  },
  "language_info": {
   "codemirror_mode": {
    "name": "ipython",
    "version": 3
   },
   "file_extension": ".py",
   "mimetype": "text/x-python",
   "name": "python",
   "nbconvert_exporter": "python",
   "pygments_lexer": "ipython3",
   "version": "3.9.12"
  }
 },
 "nbformat": 4,
 "nbformat_minor": 5
}
